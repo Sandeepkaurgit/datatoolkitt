{
 "cells": [
  {
   "cell_type": "code",
   "execution_count": null,
   "id": "4d70749c-2bcb-4e3d-9094-897d81742ea4",
   "metadata": {},
   "outputs": [],
   "source": [
    "#1) what is numpy,why is it used in python?\n",
    "#NumPy is an open source mathematical and scientific computing library for Python programming tasks. The name NumPy is shorthand for Numerical Python. The NumPy library offers a collection of high-level mathematical functions including support for multi-dimensional arrays, masked arrays and matrices."
   ]
  },
  {
   "cell_type": "code",
   "execution_count": null,
   "id": "0fe196b8-a1f1-47d2-86ce-830f182c42aa",
   "metadata": {},
   "outputs": [],
   "source": [
    "#2 how does broadcasting  work in numpy?\n",
    "#Broadcasting provides a means of vectorizing array operations so that looping occurs in C instead of Python. It does this without making needless copies of data and usually leads to efficient algorithm implementations."
   ]
  },
  {
   "cell_type": "code",
   "execution_count": null,
   "id": "b9377590-68a6-4e40-a5e4-8bf8dec0dfbd",
   "metadata": {},
   "outputs": [],
   "source": [
    "#3) what is pandas dataframe in python?\n",
    "# pandas DataFrame is a way to represent and work with tabular data. It can be seen as a table that organizes data into rows and columns, making it a two-dimensional data structure. A DataFrame can be created from scratch, or you can use other data structures, like NumPy arrays."
   ]
  },
  {
   "cell_type": "code",
   "execution_count": null,
   "id": "542ed78c-24cb-47a5-bf75-c915c0119825",
   "metadata": {},
   "outputs": [],
   "source": [
    "#4) groupby() method in pandas?\n",
    "# The groupby() function in Pandas splits all the records from a data set into different categories or groups, offering flexibility to analyze the data by these groups. Pandas is a widely used Python library for data analytics projects, but it isn't always easy to analyze the data and get valuable insights from it.\n"
   ]
  },
  {
   "cell_type": "code",
   "execution_count": null,
   "id": "6cf33c9b-3b14-4324-8bd4-77725716300b",
   "metadata": {},
   "outputs": [],
   "source": [
    "# 5) seaborn preferred ?\n",
    "# The groupby() function in Pandas splits all the records from a data set into different categories or groups, offering flexibility to analyze the data by these groups. Pandas is a widely used Python library for data analytics projects, but it isn't always easy to analyze the data and get valuable insights from it."
   ]
  },
  {
   "cell_type": "code",
   "execution_count": null,
   "id": "48811156-c2f5-4456-b888-4d59d7c57dfc",
   "metadata": {},
   "outputs": [],
   "source": [
    "# 6) difference between numpy array and python list?\n",
    "# The main difference is that NumPy arrays are much faster and have strict requirements on the homogeneity of the objects. For example, a NumPy array of strings can only contain strings and no other data types, but a Python list can contain a mixture of strings, numbers, booleans and other objects."
   ]
  },
  {
   "cell_type": "code",
   "execution_count": null,
   "id": "bf78124b-684f-468d-9dff-7bfae891f6d7",
   "metadata": {},
   "outputs": [],
   "source": [
    "#7) heatmap?\n",
    "# Heatmaps are a visualization technique that uses color gradients to represent the magnitude or intensity of data within a two-dimensional matrix. They are used to quickly identify patterns, trends, and correlations in data, particularly useful for large datasets. "
   ]
  },
  {
   "cell_type": "code",
   "execution_count": null,
   "id": "f741f996-85fe-4131-948d-9147bde08be0",
   "metadata": {},
   "outputs": [],
   "source": [
    "# 8) vectorized operation in numpy?\n",
    "# Heatmaps are a visualization technique that uses color gradients to represent the magnitude or intensity of data within a two-dimensional matrix. They are used to quickly identify patterns, trends, and correlations in data, particularly useful for large datasets."
   ]
  },
  {
   "cell_type": "code",
   "execution_count": null,
   "id": "8dd133a2-705d-411d-b80c-1bef814260b0",
   "metadata": {},
   "outputs": [],
   "source": [
    "#9) matplotib differ in  ploty?\n",
    "# Matplotlib: Is often preferred for academic or highly customized plots because you can fine-tune just about any aspect of the figure—fonts, margins, axis scales, etc. Plotly: While still highly customizable, Plotly's real strength lies in interactivity and web-based visuals."
   ]
  },
  {
   "cell_type": "code",
   "execution_count": null,
   "id": "9e7afc29-9910-4a45-8152-dacc272df2be",
   "metadata": {},
   "outputs": [],
   "source": [
    "#10) hierarching indexing?\n",
    "# Matplotlib: Is often preferred for academic or highly customized plots because you can fine-tune just about any aspect of the figure—fonts, margins, axis scales, etc. Plotly: While still highly customizable, Plotly's real strength lies in interactivity and web-based visuals."
   ]
  },
  {
   "cell_type": "code",
   "execution_count": null,
   "id": "87ebef84-2078-4742-97b9-169328103385",
   "metadata": {},
   "outputs": [],
   "source": [
    "#11) seaborn pairplot() function?\n",
    "# pairplot() method is used for visualizing relationships between multiple variables in a dataset. By creating a grid of scatter plots it helps to identify how different features interact with each other to identify patterns, correlations and trends in data. In this article, we will see how to implement seaborn."
   ]
  },
  {
   "cell_type": "code",
   "execution_count": null,
   "id": "d31d50c6-f996-4b65-a8c4-6d3e81d302a1",
   "metadata": {},
   "outputs": [],
   "source": [
    "#12) describe function in pandas?\n",
    "# The describe() method returns description of the data in the DataFrame. If the DataFrame contains numerical data, the description contains these information for each column: count - The number of not-empty values. mean - The average (mean) value."
   ]
  },
  {
   "cell_type": "code",
   "execution_count": null,
   "id": "59083333-2f07-4208-9cf9-f1cfaab2041f",
   "metadata": {},
   "outputs": [],
   "source": [
    "#13) handling missing data in pandas?\n",
    "# Missing data can reduce the statistical power of a study and can produce biased estimates, leading to invalid conclusions. This manuscript reviews the problems and types of missing data, along with the techniques for handling missing data."
   ]
  },
  {
   "cell_type": "code",
   "execution_count": null,
   "id": "00a9c32a-44c1-48f8-a151-23996c801791",
   "metadata": {},
   "outputs": [],
   "source": [
    "#14) ploty in data visualization?\n",
    "# The main benefits of Plotly Express include: Ease of Use: With minimal code, you can generate complex plots. Interactivity: Plots are not just static images; they are interactive and can be easily exported as HTML files."
   ]
  },
  {
   "cell_type": "code",
   "execution_count": null,
   "id": "96d0a86f-b547-4f34-8190-af5d170441b7",
   "metadata": {},
   "outputs": [],
   "source": [
    "# 15) numpy handle multidimensional arrays?\n",
    "# An ndarray is a (usually fixed-size) multidimensional container of items of the same type and size. The number of dimensions and items in an array is defined by its shape , which is a tuple of N non-negative integers that specify the sizes of each dimension."
   ]
  },
  {
   "cell_type": "code",
   "execution_count": null,
   "id": "c8bfd935-1afd-4ff9-84cf-b0de1cd65b26",
   "metadata": {},
   "outputs": [],
   "source": [
    "#16) bokeh in data visualization?\n",
    "# Bokeh is a Python library that is used to make highly interactive graphs and visualizations. This is done in bokeh using HTML and JavaScript. This makes it a powerful tool for creating projects, custom charts, and web design-based applications."
   ]
  },
  {
   "cell_type": "code",
   "execution_count": null,
   "id": "b5a94ce5-69fc-4cfd-a8e8-c7a40607d10d",
   "metadata": {},
   "outputs": [],
   "source": [
    "#17) difference between apply and map?\n",
    "# While map is great for simple element-wise transformations in Series, apply offers more flexibility for both Series and DataFrame objects. On the other hand, applymap excels at DataFrame-wide element-wise operations."
   ]
  },
  {
   "cell_type": "code",
   "execution_count": null,
   "id": "61c10765-a194-4a53-b3d9-4dd205f35bae",
   "metadata": {},
   "outputs": [],
   "source": [
    "# 18) advanced features of numpy?\n",
    "# NumPy, a core library for numerical computing in Python, offers several advanced features beyond basic array manipulation. These include broadcasting for efficient operations on arrays of different shapes, universal functions (ufuncs) for vectorized operations, and tools for linear algebra, Fourier transforms, and random number generation. Additionally, NumPy provides tools for data type manipulation, array slicing and indexing, and integration with C/C++ and Fortran code. "
   ]
  },
  {
   "cell_type": "code",
   "execution_count": null,
   "id": "6eeeeb4b-75a7-4789-8d63-64d9bfd637c3",
   "metadata": {},
   "outputs": [],
   "source": [
    "# 19) pandas simplify time series analysis?\n",
    "# Time series data is a sequence of data points in chronological order that is used by businesses to analyze past data and make future predictions. These data points are a set of observations at specified times and equal intervals, typically with a datetime index and corresponding value."
   ]
  },
  {
   "cell_type": "code",
   "execution_count": null,
   "id": "ceea5884-86b4-413e-853b-11093cdfc6d3",
   "metadata": {},
   "outputs": [],
   "source": [
    "#20) pivot table in pandas?\n",
    "# In Python Pandas, both the pivot and pivot_table functions reshape data, but there are some differences. Pivot is used for basic data reshaping without performing aggregations and requires unique index-column combinations."
   ]
  },
  {
   "cell_type": "code",
   "execution_count": null,
   "id": "4feac490-7e26-437d-883e-c781f456e187",
   "metadata": {},
   "outputs": [],
   "source": [
    "# 21) numpy array slicing faster than pytghon array slicing?\n",
    "# In Python Pandas, both the pivot and pivot_table functions reshape data, but there are some differences. Pivot is used for basic data reshaping without performing aggregations and requires unique index-column combinations."
   ]
  },
  {
   "cell_type": "code",
   "execution_count": null,
   "id": "84d94cd7-4a36-4a93-8b2d-c56500e8b7b0",
   "metadata": {},
   "outputs": [],
   "source": [
    "# 22) common use case of seabon?\n",
    "# In Python Pandas, both the pivot and pivot_table functions reshape data, but there are some differences. Pivot is used for basic data reshaping without performing aggregations and requires unique index-column combinations."
   ]
  },
  {
   "cell_type": "code",
   "execution_count": null,
   "id": "b4d69503-f112-40a8-99b2-5f2fa91cf688",
   "metadata": {},
   "outputs": [],
   "source": [
    "#               practical questions \n",
    "# 1) 2D numpy array with sum of each row?\n",
    "import numpy as np\n",
    "\n",
    "# Create a 2D NumPy array\n",
    "arr = np.array([,,])\n",
    "\n",
    "# Calculate the sum of each row\n",
    "row_sums = np.sum(arr, axis=1)\n",
    "\n",
    "# Print the row sums\n",
    "print(row_sums)"
   ]
  },
  {
   "cell_type": "code",
   "execution_count": null,
   "id": "35ed44a5-5e95-4336-91bd-413c3419884d",
   "metadata": {},
   "outputs": [],
   "source": [
    "#2) dataframe to find panda script mean?\n",
    "import pandas as pd\n",
    "\n",
    "def calculate_mean(df, column_name):\n",
    "  \"\"\"\n",
    "  Calculates the mean of a specific column in a Pandas DataFrame.\n",
    "\n",
    "  Args:\n",
    "    df: The Pandas DataFrame.\n",
    "    column_name: The name of the column to calculate the mean for.\n",
    "\n",
    "  Returns:\n",
    "    The mean of the specified column, or None if the column does not exist or\n",
    "    contains non-numeric values.\n",
    "  \"\"\"\n",
    "  if column_name not in df.columns:\n",
    "    print(f\"Error: Column '{column_name}' not found in the DataFrame.\")\n",
    "    return None\n",
    "  \n",
    "  try:\n",
    "    mean_value = df[column_name].mean()\n",
    "    return mean_value\n",
    "  except TypeError:\n",
    "    print(f\"Error: Column '{column_name}' contains non-numeric values.\")\n",
    "    return None\n",
    "\n",
    "\n",
    "# Example Usage:\n",
    "data = {'col1': [1, 2, 3, 4, 5], 'col2': [6, 7, 8, 9, 10]}\n",
    "df = pd.DataFrame(data)\n",
    "\n",
    "column_to_average = \"col1\"\n",
    "mean = calculate_mean(df, column_to_average)\n",
    "\n",
    "if mean is not None:\n",
    "    print(f\"The mean of column '{column_to_average}' is: {mean}\")"
   ]
  },
  {
   "cell_type": "code",
   "execution_count": null,
   "id": "e5e77850-5ecb-4b71-b150-aad25329bc94",
   "metadata": {},
   "outputs": [],
   "source": [
    "#3) scatter plot using matplotlib?\n",
    "import matplotlib.pyplot as plt\n",
    "\n",
    "x_data = [1, 2, 3, 4, 5]\n",
    "y_data = [2, 4, 1, 3, 5]\n",
    "\n",
    "plt.scatter(x_data, y_data, marker='o', s=50, color='blue')\n",
    "plt.xlabel(\"X-axis\")\n",
    "plt.ylabel(\"Y-axis\")\n",
    "plt.title(\"Simple Scatter Plot\")\n",
    "plt.show()"
   ]
  },
  {
   "cell_type": "code",
   "execution_count": null,
   "id": "47bd5ce2-8320-4636-8c58-70d483e0228a",
   "metadata": {},
   "outputs": [],
   "source": [
    "#4) calculate the correlation matrix seaborn with heatmap?\n",
    "import pandas as pd\n",
    "import seaborn as sns\n",
    "import matplotlib.pyplot as plt\n",
    "# Assuming your data is in a Pandas DataFrame called 'df'\n",
    "# Load your data here, e.g., from a CSV file:\n",
    "# df = pd.read_csv('your_data.csv')\n",
    "correlation_matrix = df.corr()\n",
    "plt.figure(figsize=(12, 10)) # Adjust figure size as needed\n",
    "sns.heatmap(correlation_matrix, annot=True, cmap=\"coolwarm\", fmt=\".2f\") # annot=True shows correlation values\n",
    "plt.title(\"Correlation Matrix Heatmap\")\n",
    "plt.show()"
   ]
  },
  {
   "cell_type": "code",
   "execution_count": null,
   "id": "c2c9978e-4363-4075-b40d-64546520298e",
   "metadata": {},
   "outputs": [],
   "source": [
    "#5) bar plot using plotly?\n",
    "import plotly.graph_objects as go\n",
    "\n",
    "categories = ['Category A', 'Category B', 'Category C', 'Category D']\n",
    "values = [25, 40, 15, 30]\n",
    "\n",
    "fig = go.Figure(go.Bar(x=categories, y=values))\n",
    "\n",
    "fig.update_layout(\n",
    "    title='Example Bar Chart',\n",
    "    xaxis_title='Categories',\n",
    "    yaxis_title='Values'\n",
    ")\n",
    "\n",
    "fig.show()"
   ]
  },
  {
   "cell_type": "code",
   "execution_count": null,
   "id": "1f56e9e3-c0b9-4360-8a88-3098c156ce2b",
   "metadata": {},
   "outputs": [],
   "source": [
    "#7) 2numpy array multipulication ?\n",
    "import numpy as np\n",
    "\n",
    "def elementwise_multiply(array1, array2):\n",
    "    \"\"\"\n",
    "    Performs element-wise multiplication of two NumPy arrays.\n",
    "\n",
    "    Args:\n",
    "      array1: The first NumPy array.\n",
    "      array2: The second NumPy array.\n",
    "\n",
    "    Returns:\n",
    "      A new NumPy array containing the element-wise product of array1 and array2.\n",
    "    \"\"\"\n",
    "    return np.multiply(array1, array2)\n",
    "\n",
    "if __name__ == '__main__':\n",
    "    # Example usage\n",
    "    array1 = np.array([[1, 2], [3, 4]])\n",
    "    array2 = np.array([[5, 6], [7, 8]])\n",
    "\n",
    "    result = elementwise_multiply(array1, array2)\n",
    "    print(\"Array 1:\\n\", array1)\n",
    "    print(\"Array 2:\\n\", array2)\n",
    "    print(\"Element-wise multiplication result:\\n\", result)"
   ]
  },
  {
   "cell_type": "code",
   "execution_count": null,
   "id": "f85efd44-4eff-4e74-b000-680fa8e154e8",
   "metadata": {},
   "outputs": [],
   "source": [
    "#8) line plot using matplotlib?\n",
    "import matplotlib.pyplot as plt\n",
    "import numpy as np\n",
    "\n",
    "# Data\n",
    "x = np.arange(0, 10, 0.1)\n",
    "y1 = np.sin(x)\n",
    "y2 = np.cos(x)\n",
    "y3 = np.tan(x)\n",
    "\n",
    "# Plotting\n",
    "plt.plot(x, y1, label='sin(x)', linestyle='-', marker='o', color='blue')\n",
    "plt.plot(x, y2, label='cos(x)', linestyle='--', marker='x', color='red')\n",
    "plt.plot(x, y3, label='tan(x)', linestyle=':', marker='.', color='green')\n",
    "\n",
    "# Labels and Title\n",
    "plt.xlabel('X-axis')\n",
    "plt.ylabel('Y-axis')\n",
    "plt.title('Multiple Lines Plot')\n",
    "\n",
    "# Legend\n",
    "plt.legend()\n",
    "\n",
    "# Display Plot\n",
    "plt.grid(True)\n",
    "plt.show()"
   ]
  },
  {
   "cell_type": "code",
   "execution_count": null,
   "id": "4337f041-3f06-4b06-9c4d-bf4e51bb7eb0",
   "metadata": {},
   "outputs": [],
   "source": [
    "#9) pandas dataframe greater than threshold?\n",
    "import pandas as pd\n",
    "\n",
    "# Sample data\n",
    "data = {'col1': [1, 5, 2, 8, 3],\n",
    "        'col2': [10, 15, 20, 25, 30]}\n",
    "\n",
    "# Create DataFrame\n",
    "df = pd.DataFrame(data)\n",
    "\n",
    "# Define the threshold\n",
    "threshold = 18\n",
    "\n",
    "# Filter rows where 'col2' is greater than the threshold\n",
    "filtered_df = df[df['col2'] > threshold]\n",
    "\n",
    "# Display the filtered DataFrame\n",
    "print(filtered_df)"
   ]
  },
  {
   "cell_type": "code",
   "execution_count": null,
   "id": "0c8d0323-3587-4c8e-b810-5872a7f448ab",
   "metadata": {},
   "outputs": [],
   "source": [
    "#`10) histrogram in seaborn?\n",
    "import seaborn as sns\n",
    "import matplotlib.pyplot as plt\n",
    "import numpy as np\n",
    "\n",
    "# Sample data\n",
    "data = np.random.randn(1000)\n",
    "\n",
    "# Create the histogram with customizations\n",
    "sns.histplot(data, bins=30, kde=True, color='skyblue', stat='density')\n",
    "\n",
    "# Add title and labels\n",
    "plt.title('Distribution of Sample Data')\n",
    "plt.xlabel('Values')\n",
    "plt.ylabel('Density')\n",
    "\n",
    "# Display the plot\n",
    "plt.show()"
   ]
  },
  {
   "cell_type": "code",
   "execution_count": null,
   "id": "91f4c11c-fea3-409c-9932-af6077192381",
   "metadata": {},
   "outputs": [],
   "source": [
    "#11) matrix multipulation ?\n",
    "# importing the module\n",
    "import numpy as np\n",
    "\n",
    "# creating two matrices\n",
    "p = [[1, 2], [2, 3]]\n",
    "q = [[4, 5], [6, 7]]\n",
    "print(\"Matrix p :\")\n",
    "print(p)\n",
    "print(\"Matrix q :\")\n",
    "print(q)\n",
    "\n",
    "# computing product\n",
    "result = np.dot(p, q)\n",
    "\n",
    "# printing the result\n",
    "print(\"The matrix multiplication is :\")\n",
    "print(result)"
   ]
  },
  {
   "cell_type": "code",
   "execution_count": null,
   "id": "899307f2-7a0a-45ee-a655-4d7928f66ef0",
   "metadata": {},
   "outputs": [],
   "source": [
    "#12) "
   ]
  },
  {
   "cell_type": "code",
   "execution_count": null,
   "id": "b888fbd5-e8a3-4191-bc56-5564a3216ecf",
   "metadata": {},
   "outputs": [],
   "source": []
  }
 ],
 "metadata": {
  "kernelspec": {
   "display_name": "Python 3 (ipykernel)",
   "language": "python",
   "name": "python3"
  },
  "language_info": {
   "codemirror_mode": {
    "name": "ipython",
    "version": 3
   },
   "file_extension": ".py",
   "mimetype": "text/x-python",
   "name": "python",
   "nbconvert_exporter": "python",
   "pygments_lexer": "ipython3",
   "version": "3.13.3"
  }
 },
 "nbformat": 4,
 "nbformat_minor": 5
}
